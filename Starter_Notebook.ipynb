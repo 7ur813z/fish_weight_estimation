{
 "cells": [
  {
   "cell_type": "markdown",
   "metadata": {
    "id": "Hqjw7VdyfYVs"
   },
   "source": [
    "<center><h1><font color='#0096FF'>CIS CHAPTER MINI COMPETITION <br> STARTER NOTEBOOK</font></h1>\n",
    "</center>"
   ]
  },
  {
   "cell_type": "markdown",
   "metadata": {
    "id": "-hjGvdbDghXY"
   },
   "source": [
    "***Il s'agit d'un simple Notebook pour se lancer dans la compétition.***"
   ]
  },
  {
   "cell_type": "markdown",
   "metadata": {
    "id": "Bw1LJU1qhO9w"
   },
   "source": [
    "<font color ='red'>Le but de cette étude est d'estimer le poids des individus poissons à partir de leurs mesurations.\n",
    "\n",
    "Cette étude peut être améliorée pour être utilisée dans les fermes piscicoles. Les poissons individuels nageant devant la caméra peuvent être mesurés à partir de l'image vidéo et le poids du poisson peut être estimé grâce au modèle d'apprentissage automatique.</font>"
   ]
  },
  {
   "cell_type": "code",
   "execution_count": 1,
   "metadata": {
    "id": "9Ss39yVSh81I"
   },
   "outputs": [],
   "source": [
    "import numpy as np # linear algebra\n",
    "import pandas as pd # data processing, CSV file I/O (e.g. pd.read_csv)"
   ]
  },
  {
   "cell_type": "markdown",
   "metadata": {
    "id": "-dEpoV4Whx71"
   },
   "source": [
    "# COMPRENDRE LES DONNÉES"
   ]
  },
  {
   "cell_type": "markdown",
   "metadata": {
    "id": "J-e1V5cUiWgo"
   },
   "source": [
    "***Assurez-vous de placer le Notebook (CIS_Starter_Notebook) et les fichiers de donneés (Train.csv et Test.csv) dans le même dossier.***"
   ]
  },
  {
   "cell_type": "code",
   "execution_count": 2,
   "metadata": {
    "id": "KkJ0Br_wez59"
   },
   "outputs": [],
   "source": [
    "Train = pd.read_csv(\"Train.csv\")   \n",
    "Test = pd.read_csv(\"Test.csv\")"
   ]
  },
  {
   "cell_type": "code",
   "execution_count": 3,
   "metadata": {
    "colab": {
     "base_uri": "https://localhost:8080/",
     "height": 206
    },
    "id": "TgwnqWghigBw",
    "outputId": "a1ba8d95-b58b-4a34-bcc3-b6bed40216e8"
   },
   "outputs": [
    {
     "data": {
      "text/html": [
       "<div>\n",
       "<style scoped>\n",
       "    .dataframe tbody tr th:only-of-type {\n",
       "        vertical-align: middle;\n",
       "    }\n",
       "\n",
       "    .dataframe tbody tr th {\n",
       "        vertical-align: top;\n",
       "    }\n",
       "\n",
       "    .dataframe thead th {\n",
       "        text-align: right;\n",
       "    }\n",
       "</style>\n",
       "<table border=\"1\" class=\"dataframe\">\n",
       "  <thead>\n",
       "    <tr style=\"text-align: right;\">\n",
       "      <th></th>\n",
       "      <th>ID</th>\n",
       "      <th>Espèce</th>\n",
       "      <th>LongueurVer</th>\n",
       "      <th>LongueurDia</th>\n",
       "      <th>LongueurCro</th>\n",
       "      <th>Hauteur</th>\n",
       "      <th>Largeur</th>\n",
       "      <th>Poids</th>\n",
       "    </tr>\n",
       "  </thead>\n",
       "  <tbody>\n",
       "    <tr>\n",
       "      <th>0</th>\n",
       "      <td>hAmkM80XrB</td>\n",
       "      <td>Dorade</td>\n",
       "      <td>30.9</td>\n",
       "      <td>33.5</td>\n",
       "      <td>38.6</td>\n",
       "      <td>15.6330</td>\n",
       "      <td>5.1338</td>\n",
       "      <td>610.0</td>\n",
       "    </tr>\n",
       "    <tr>\n",
       "      <th>1</th>\n",
       "      <td>j5tRKxc3P4</td>\n",
       "      <td>Éperlan</td>\n",
       "      <td>9.3</td>\n",
       "      <td>9.8</td>\n",
       "      <td>10.8</td>\n",
       "      <td>1.7388</td>\n",
       "      <td>1.0476</td>\n",
       "      <td>6.7</td>\n",
       "    </tr>\n",
       "    <tr>\n",
       "      <th>2</th>\n",
       "      <td>w2M3CLts3v</td>\n",
       "      <td>Brochet</td>\n",
       "      <td>48.3</td>\n",
       "      <td>51.7</td>\n",
       "      <td>55.1</td>\n",
       "      <td>8.9262</td>\n",
       "      <td>6.1712</td>\n",
       "      <td>950.0</td>\n",
       "    </tr>\n",
       "    <tr>\n",
       "      <th>3</th>\n",
       "      <td>9XCIhKuBo3</td>\n",
       "      <td>Gardon</td>\n",
       "      <td>17.5</td>\n",
       "      <td>18.8</td>\n",
       "      <td>21.2</td>\n",
       "      <td>5.5756</td>\n",
       "      <td>2.9044</td>\n",
       "      <td>78.0</td>\n",
       "    </tr>\n",
       "    <tr>\n",
       "      <th>4</th>\n",
       "      <td>xb0n1Eyv8Y</td>\n",
       "      <td>Perche</td>\n",
       "      <td>19.0</td>\n",
       "      <td>21.0</td>\n",
       "      <td>22.5</td>\n",
       "      <td>5.6925</td>\n",
       "      <td>3.5550</td>\n",
       "      <td>110.0</td>\n",
       "    </tr>\n",
       "  </tbody>\n",
       "</table>\n",
       "</div>"
      ],
      "text/plain": [
       "           ID   Espèce  LongueurVer  LongueurDia  LongueurCro  Hauteur  \\\n",
       "0  hAmkM80XrB   Dorade         30.9         33.5         38.6  15.6330   \n",
       "1  j5tRKxc3P4  Éperlan          9.3          9.8         10.8   1.7388   \n",
       "2  w2M3CLts3v  Brochet         48.3         51.7         55.1   8.9262   \n",
       "3  9XCIhKuBo3   Gardon         17.5         18.8         21.2   5.5756   \n",
       "4  xb0n1Eyv8Y   Perche         19.0         21.0         22.5   5.6925   \n",
       "\n",
       "   Largeur  Poids  \n",
       "0   5.1338  610.0  \n",
       "1   1.0476    6.7  \n",
       "2   6.1712  950.0  \n",
       "3   2.9044   78.0  \n",
       "4   3.5550  110.0  "
      ]
     },
     "execution_count": 3,
     "metadata": {},
     "output_type": "execute_result"
    }
   ],
   "source": [
    "Train.head()"
   ]
  },
  {
   "cell_type": "code",
   "execution_count": 4,
   "metadata": {
    "colab": {
     "base_uri": "https://localhost:8080/",
     "height": 206
    },
    "id": "XC9KJ9YZl6tN",
    "outputId": "f9ae2b06-e294-4a56-de91-6d67f2d0a1a8"
   },
   "outputs": [
    {
     "data": {
      "text/html": [
       "<div>\n",
       "<style scoped>\n",
       "    .dataframe tbody tr th:only-of-type {\n",
       "        vertical-align: middle;\n",
       "    }\n",
       "\n",
       "    .dataframe tbody tr th {\n",
       "        vertical-align: top;\n",
       "    }\n",
       "\n",
       "    .dataframe thead th {\n",
       "        text-align: right;\n",
       "    }\n",
       "</style>\n",
       "<table border=\"1\" class=\"dataframe\">\n",
       "  <thead>\n",
       "    <tr style=\"text-align: right;\">\n",
       "      <th></th>\n",
       "      <th>ID</th>\n",
       "      <th>Espèce</th>\n",
       "      <th>LongueurVer</th>\n",
       "      <th>LongueurDia</th>\n",
       "      <th>LongueurCro</th>\n",
       "      <th>Hauteur</th>\n",
       "      <th>Largeur</th>\n",
       "    </tr>\n",
       "  </thead>\n",
       "  <tbody>\n",
       "    <tr>\n",
       "      <th>0</th>\n",
       "      <td>5gLYcjsz9z</td>\n",
       "      <td>Perche</td>\n",
       "      <td>23.5</td>\n",
       "      <td>25.6</td>\n",
       "      <td>27.0</td>\n",
       "      <td>6.5610</td>\n",
       "      <td>4.2390</td>\n",
       "    </tr>\n",
       "    <tr>\n",
       "      <th>1</th>\n",
       "      <td>j0rBCrMwYa</td>\n",
       "      <td>Dorade</td>\n",
       "      <td>31.8</td>\n",
       "      <td>35.0</td>\n",
       "      <td>40.6</td>\n",
       "      <td>15.4686</td>\n",
       "      <td>6.1306</td>\n",
       "    </tr>\n",
       "    <tr>\n",
       "      <th>2</th>\n",
       "      <td>GI72jxWh7u</td>\n",
       "      <td>Perche</td>\n",
       "      <td>25.0</td>\n",
       "      <td>26.5</td>\n",
       "      <td>28.0</td>\n",
       "      <td>7.1680</td>\n",
       "      <td>4.1440</td>\n",
       "    </tr>\n",
       "    <tr>\n",
       "      <th>3</th>\n",
       "      <td>YJNyDH3z1V</td>\n",
       "      <td>Brochet</td>\n",
       "      <td>30.0</td>\n",
       "      <td>32.3</td>\n",
       "      <td>34.8</td>\n",
       "      <td>5.5680</td>\n",
       "      <td>3.3756</td>\n",
       "    </tr>\n",
       "    <tr>\n",
       "      <th>4</th>\n",
       "      <td>y98GtegfKY</td>\n",
       "      <td>Perche</td>\n",
       "      <td>20.0</td>\n",
       "      <td>22.0</td>\n",
       "      <td>23.5</td>\n",
       "      <td>5.6400</td>\n",
       "      <td>3.5250</td>\n",
       "    </tr>\n",
       "  </tbody>\n",
       "</table>\n",
       "</div>"
      ],
      "text/plain": [
       "           ID   Espèce  LongueurVer  LongueurDia  LongueurCro  Hauteur  \\\n",
       "0  5gLYcjsz9z   Perche         23.5         25.6         27.0   6.5610   \n",
       "1  j0rBCrMwYa   Dorade         31.8         35.0         40.6  15.4686   \n",
       "2  GI72jxWh7u   Perche         25.0         26.5         28.0   7.1680   \n",
       "3  YJNyDH3z1V  Brochet         30.0         32.3         34.8   5.5680   \n",
       "4  y98GtegfKY   Perche         20.0         22.0         23.5   5.6400   \n",
       "\n",
       "   Largeur  \n",
       "0   4.2390  \n",
       "1   6.1306  \n",
       "2   4.1440  \n",
       "3   3.3756  \n",
       "4   3.5250  "
      ]
     },
     "execution_count": 4,
     "metadata": {},
     "output_type": "execute_result"
    }
   ],
   "source": [
    "Test.head()"
   ]
  },
  {
   "cell_type": "markdown",
   "metadata": {
    "id": "HLlEL8fOnnIU"
   },
   "source": [
    "**Signification des colonnes :**\n",
    "* Espèce : Nom de l'espèce du poisson\n",
    "* Poids : Poids du poisson en gramme\n",
    "* LongueurVer : Longueur verticale en cm\n",
    "* LongueurDia : Longueur diagonale en cm\n",
    "* LongueurCro : Longueur de la croix en cm\n",
    "* Hauteur : Hauteur en cm\n",
    "* Largeur : Largeur diagonale en cm\n",
    "\n",
    "Notre variable dépendante est 'Poids' **(a prédire)**. Les variables indépendantes sont 'Espèce', différentes longueurs, 'Hauteur' et 'Largeur'."
   ]
  },
  {
   "cell_type": "markdown",
   "metadata": {
    "id": "baHxXck-osvr"
   },
   "source": [
    "<center><h1><font color='#0096FF'>C'est sur vous maintenant de :</font></h1>\n",
    "</center>"
   ]
  },
  {
   "cell_type": "markdown",
   "metadata": {
    "id": "304kJZ6bo0p3"
   },
   "source": [
    "* Explorer mieux votre Data (EDA).\n",
    "* Faire le prétraitement des données (Preprocessing).\n",
    "* Entrainer votre modéle de machine learning.\n",
    "* Evaluer votre modéle.\n",
    "* Génerer les predictions sur les donneés de Test (Test.csv).\n",
    "* Preparer le fichier de soumission.\n"
   ]
  },
  {
   "cell_type": "markdown",
   "metadata": {
    "id": "Vefcwc-ppxit"
   },
   "source": [
    "<center><h1><font color='#0096FF'>Noter Bien :</font></h1>\n",
    "</center>"
   ]
  },
  {
   "cell_type": "markdown",
   "metadata": {
    "id": "SDLTz4zxp0yn"
   },
   "source": [
    "***La métrique d'évaluation pour ce défi est root_mean_squared_error (RMSE)<br>\n",
    "Votre fichier de soumission devrait ressembler à ceci :***"
   ]
  },
  {
   "cell_type": "code",
   "execution_count": 5,
   "metadata": {},
   "outputs": [
    {
     "data": {
      "text/html": [
       "<div>\n",
       "<style scoped>\n",
       "    .dataframe tbody tr th:only-of-type {\n",
       "        vertical-align: middle;\n",
       "    }\n",
       "\n",
       "    .dataframe tbody tr th {\n",
       "        vertical-align: top;\n",
       "    }\n",
       "\n",
       "    .dataframe thead th {\n",
       "        text-align: right;\n",
       "    }\n",
       "</style>\n",
       "<table border=\"1\" class=\"dataframe\">\n",
       "  <thead>\n",
       "    <tr style=\"text-align: right;\">\n",
       "      <th></th>\n",
       "      <th>ID</th>\n",
       "      <th>Poids Estimé</th>\n",
       "    </tr>\n",
       "  </thead>\n",
       "  <tbody>\n",
       "    <tr>\n",
       "      <th>0</th>\n",
       "      <td>5gLYcjsz9z</td>\n",
       "      <td>-</td>\n",
       "    </tr>\n",
       "    <tr>\n",
       "      <th>1</th>\n",
       "      <td>j0rBCrMwYa</td>\n",
       "      <td>-</td>\n",
       "    </tr>\n",
       "    <tr>\n",
       "      <th>2</th>\n",
       "      <td>GI72jxWh7u</td>\n",
       "      <td>-</td>\n",
       "    </tr>\n",
       "    <tr>\n",
       "      <th>3</th>\n",
       "      <td>YJNyDH3z1V</td>\n",
       "      <td>-</td>\n",
       "    </tr>\n",
       "    <tr>\n",
       "      <th>4</th>\n",
       "      <td>y98GtegfKY</td>\n",
       "      <td>-</td>\n",
       "    </tr>\n",
       "  </tbody>\n",
       "</table>\n",
       "</div>"
      ],
      "text/plain": [
       "           ID Poids Estimé\n",
       "0  5gLYcjsz9z            -\n",
       "1  j0rBCrMwYa            -\n",
       "2  GI72jxWh7u            -\n",
       "3  YJNyDH3z1V            -\n",
       "4  y98GtegfKY            -"
      ]
     },
     "execution_count": 5,
     "metadata": {},
     "output_type": "execute_result"
    }
   ],
   "source": [
    "sub = pd.read_csv(\"SampleSubmissionFile.csv\")\n",
    "sub.head()"
   ]
  },
  {
   "cell_type": "markdown",
   "metadata": {},
   "source": [
    "***La colonne Poids Estimé contient les valeurs obtenus par la prediction sur les données de Test***"
   ]
  }
 ],
 "metadata": {
  "colab": {
   "collapsed_sections": [],
   "name": "CIS_Starter_Notebook",
   "provenance": []
  },
  "kernelspec": {
   "display_name": "Python 3",
   "language": "python",
   "name": "python3"
  },
  "language_info": {
   "codemirror_mode": {
    "name": "ipython",
    "version": 3
   },
   "file_extension": ".py",
   "mimetype": "text/x-python",
   "name": "python",
   "nbconvert_exporter": "python",
   "pygments_lexer": "ipython3",
   "version": "3.7.9"
  }
 },
 "nbformat": 4,
 "nbformat_minor": 4
}
